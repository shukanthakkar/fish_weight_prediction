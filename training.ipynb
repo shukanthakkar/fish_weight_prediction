{
 "cells": [
  {
   "cell_type": "code",
   "execution_count": 3,
   "id": "873ce7f5",
   "metadata": {},
   "outputs": [],
   "source": [
    "# !pip install --upgrade pip"
   ]
  },
  {
   "cell_type": "code",
   "execution_count": 4,
   "id": "4072a57e",
   "metadata": {},
   "outputs": [],
   "source": [
    "# !pip install --upgrade setuptools"
   ]
  },
  {
   "cell_type": "code",
   "execution_count": null,
   "id": "fa1b4387",
   "metadata": {},
   "outputs": [],
   "source": [
    "from flask import Flask, render_template, request, jsonify\n",
    "import pandas as pd\n",
    "from sklearn.model_selection import train_test_split, GridSearchCV  # Import GridSearchCV for hyperparameter tuning\n",
    "from sklearn.ensemble import RandomForestRegressor\n",
    "from sklearn.metrics import mean_squared_error\n",
    "import joblib\n",
    "import matplotlib.pyplot as plt  # Import matplotlib for plotting\n",
    "\n",
    "app = Flask(__name__)\n",
    "\n",
    "# Load the dataset\n",
    "data = pd.read_csv(\"fish.csv\")\n",
    "\n",
    "# Preprocess the dataset\n",
    "X = data.drop(columns=['Species', 'Weight'])\n",
    "y = data['Weight']\n",
    "X_train, X_test, y_train, y_test = train_test_split(X, y, test_size=0.2, random_state=42)\n",
    "\n",
    "# Perform GridSearchCV to find the best hyperparameters\n",
    "param_grid = {\n",
    "    'n_estimators': [50, 100, 150, 200],  # Test different number of trees\n",
    "    'max_depth': [None, 10, 20, 30],  # Test different maximum depths\n",
    "    'min_samples_split': [2, 5, 10, 15],  # Test different minimum samples for split\n",
    "    'min_samples_leaf': [1, 2, 4]  # Test different minimum samples for leaf node\n",
    "}\n",
    "grid_search = GridSearchCV(RandomForestRegressor(random_state=42), param_grid, cv=5, scoring='neg_mean_squared_error')\n",
    "grid_search.fit(X_train, y_train)\n",
    "\n",
    "# Plot RMSE over the grid\n",
    "results = pd.DataFrame(grid_search.cv_results_)\n",
    "scores = -results['mean_test_score'].values.reshape(len(param_grid['n_estimators']), len(param_grid['max_depth']))\n",
    "plt.figure(figsize=(12, 8))\n",
    "plt.imshow(scores, interpolation='nearest', cmap=plt.cm.hot)\n",
    "plt.xlabel('max_depth')\n",
    "plt.ylabel('n_estimators')\n",
    "plt.colorbar()\n",
    "plt.xticks(ticks=range(len(param_grid['max_depth'])), labels=param_grid['max_depth'])\n",
    "plt.yticks(ticks=range(len(param_grid['n_estimators'])), labels=param_grid['n_estimators'])\n",
    "plt.title('Grid Search Mean Test Score (Negative MSE)')\n",
    "plt.show()\n",
    "\n",
    "# Get the best parameters and train the model with the best parameters\n",
    "best_params = grid_search.best_params_\n",
    "best_model = RandomForestRegressor(**best_params, random_state=42)\n",
    "best_model.fit(X_train, y_train)\n",
    "\n",
    "# Evaluate the best model\n",
    "y_pred = best_model.predict(X_test)\n",
    "mse = mean_squared_error(y_test, y_pred)\n",
    "print(\"Mean Squared Error (Best Model):\", mse)\n",
    "\n",
    "# Save the best trained model\n",
    "joblib.dump(best_model, \"fish_weight_prediction_model.pkl\")\n"
   ]
  },
  {
   "cell_type": "code",
   "execution_count": null,
   "id": "f0c1ae58",
   "metadata": {},
   "outputs": [],
   "source": []
  }
 ],
 "metadata": {
  "kernelspec": {
   "display_name": "Python 3 (ipykernel)",
   "language": "python",
   "name": "python3"
  },
  "language_info": {
   "codemirror_mode": {
    "name": "ipython",
    "version": 3
   },
   "file_extension": ".py",
   "mimetype": "text/x-python",
   "name": "python",
   "nbconvert_exporter": "python",
   "pygments_lexer": "ipython3",
   "version": "3.10.9"
  }
 },
 "nbformat": 4,
 "nbformat_minor": 5
}
